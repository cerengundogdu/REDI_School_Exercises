{
 "cells": [
  {
   "cell_type": "code",
   "execution_count": null,
   "metadata": {},
   "outputs": [],
   "source": [
    "from random import randint\n",
    "\n",
    "print('Welcome to Rock, Paper, Scissors game! \\n')\n",
    "\n",
    "\n",
    "\n",
    "def rps_game():\n",
    "    options = ['r', 'p', 's']\n",
    "\n",
    "    for i in range(0,2):\n",
    "        \n",
    "        player = input('Plase type your choice: Rock(r), Paper (p) or Scissors(s) ? \\n').lower()\n",
    "        computer = options[randint(0,2)].lower()\n",
    "        print(\"computer: {}\".format(computer))\n",
    "        if player == computer:\n",
    "            print(\"Nobody wins! It's a tie!\")\n",
    "            while True:\n",
    "                player = input('Plase type your choice: Rock(r), Paper (p) or Scissors(s) ? \\n').lower()\n",
    "                computer = options[randint(0,2)].lower()\n",
    "                print(computer)\n",
    "        elif (player == 'r' and computer=='s') or (player == 's' and computer=='p') or (player == 'p' and computer=='r'):\n",
    "            print(\"You won, computer lose!:)\")\n",
    "        else:\n",
    "            print(\"You lose, computer won!:(\")\n",
    "        i+=1\n"
   ]
  },
  {
   "cell_type": "code",
   "execution_count": null,
   "metadata": {},
   "outputs": [],
   "source": [
    "from random import randint\n",
    "\n",
    "print('Welcome to Rock, Paper, Scissors game! \\n')\n",
    "\n",
    "def rps_game():\n",
    "    options = ['r', 'p', 's']\n",
    "\n",
    "    for i in range(0,3):\n",
    "        \n",
    "        player = input('Plase type your choice: Rock(r), Paper (p) or Scissors(s) ? \\n').lower()\n",
    "        print('player: ', player)\n",
    "        computer = input('Plase type your choice: Rock(r), Paper (p) or Scissors(s) ? \\n').lower()\n",
    "        print('computer: ', computer)\n",
    "        if player == computer:\n",
    "            print(\"Nobody wins! It's a tie!\")\n",
    "            while player != computer:\n",
    "                player = input('Plase type again!\\n').lower()\n",
    "                print('player: ', player)\n",
    "                computer = input('Plase type again!\\n').lower()\n",
    "                print('computer: ', computer)\n",
    "        elif (player == 'r' and computer=='s') or (player == 's' and computer=='p') or (player == 'p' and computer=='r'):\n",
    "            print(\"You won, computer lose!:)\")\n",
    "        else:\n",
    "            print(\"You lose, computer won!:(\")\n",
    "        i+=1"
   ]
  },
  {
   "cell_type": "code",
   "execution_count": null,
   "metadata": {
    "scrolled": true
   },
   "outputs": [],
   "source": [
    "rps_game()\n"
   ]
  },
  {
   "cell_type": "code",
   "execution_count": 1,
   "metadata": {},
   "outputs": [],
   "source": [
    "def rps_game():\n",
    "    i=0\n",
    "    want_to_play= 'yes'\n",
    "    while want_to_play== 'yes' or i<3:\n",
    "        print('Welcome to Rock, Paper, Scissors game! \\n')\n",
    "        player = input('Plase type your choice: Rock(r), Paper (p) or Scissors(s) ? \\n').lower()\n",
    "        print('player: ', player)\n",
    "        computer = input('Plase type your choice: Rock(r), Paper (p) or Scissors(s) ? \\n').lower()\n",
    "        print('computer: ', computer)\n",
    "        if player == computer:\n",
    "            print(\"Nobody wins! It's a tie!\")\n",
    "            while player == computer:\n",
    "                player = input('Plase type again!\\n').lower()\n",
    "                print('player: ', player)\n",
    "                computer = input('Plase type again!\\n').lower()\n",
    "                print('computer: ', computer)\n",
    "    \n",
    "        if (player == 'r' and computer=='s') or (player == 's' and computer=='p') or (player == 'p' and computer=='r'):\n",
    "            print(\"You won, computer lose!:)\")\n",
    "        elif (computer == 'r' and player=='s') or ( computer == 's' and player =='p') or (computer == 'p' and player=='r'):\n",
    "            print(\"You lose, computer won!:(\")\n",
    "        want_to_play= input('Do you want to continue to play? Please type yes or no. \\n').lower()\n",
    "        i += 1"
   ]
  },
  {
   "cell_type": "code",
   "execution_count": 2,
   "metadata": {},
   "outputs": [
    {
     "name": "stdout",
     "output_type": "stream",
     "text": [
      "Welcome to Rock, Paper, Scissors game! \n",
      "\n",
      "Plase type your choice: Rock(r), Paper (p) or Scissors(s) ? \n",
      "r\n",
      "player:  r\n",
      "Plase type your choice: Rock(r), Paper (p) or Scissors(s) ? \n",
      "r\n",
      "computer:  r\n",
      "Nobody wins! It's a tie!\n",
      "Plase type again!\n",
      "r\n",
      "player:  r\n",
      "Plase type again!\n",
      "s\n",
      "computer:  s\n",
      "You won, computer lose!:)\n",
      "Do you want to continue to play? Please type yes or no. \n",
      "yes\n",
      "Welcome to Rock, Paper, Scissors game! \n",
      "\n",
      "Plase type your choice: Rock(r), Paper (p) or Scissors(s) ? \n",
      "r\n",
      "player:  r\n",
      "Plase type your choice: Rock(r), Paper (p) or Scissors(s) ? \n",
      "s\n",
      "computer:  s\n",
      "You won, computer lose!:)\n",
      "Do you want to continue to play? Please type yes or no. \n",
      "yes\n",
      "Welcome to Rock, Paper, Scissors game! \n",
      "\n",
      "Plase type your choice: Rock(r), Paper (p) or Scissors(s) ? \n",
      "r\n",
      "player:  r\n",
      "Plase type your choice: Rock(r), Paper (p) or Scissors(s) ? \n",
      "r\n",
      "computer:  r\n",
      "Nobody wins! It's a tie!\n",
      "Plase type again!\n",
      "yes\n",
      "player:  yes\n",
      "Plase type again!\n",
      "r\n",
      "computer:  r\n",
      "Do you want to continue to play? Please type yes or no. \n",
      "s\n"
     ]
    }
   ],
   "source": [
    "rps_game()"
   ]
  },
  {
   "cell_type": "code",
   "execution_count": 2,
   "metadata": {},
   "outputs": [
    {
     "name": "stdout",
     "output_type": "stream",
     "text": [
      "True\n"
     ]
    }
   ],
   "source": [
    "def compare(a,b):\n",
    "    for num in a and b:\n",
    "      return True\n",
    "    \n",
    "  \n",
    "a= [1,3,4,5,6,8,2]\n",
    "b= [9,10]\n",
    "print(compare(a,b))\n"
   ]
  },
  {
   "cell_type": "code",
   "execution_count": null,
   "metadata": {},
   "outputs": [],
   "source": []
  }
 ],
 "metadata": {
  "kernelspec": {
   "display_name": "Python 3",
   "language": "python",
   "name": "python3"
  },
  "language_info": {
   "codemirror_mode": {
    "name": "ipython",
    "version": 3
   },
   "file_extension": ".py",
   "mimetype": "text/x-python",
   "name": "python",
   "nbconvert_exporter": "python",
   "pygments_lexer": "ipython3",
   "version": "3.7.6"
  }
 },
 "nbformat": 4,
 "nbformat_minor": 4
}
